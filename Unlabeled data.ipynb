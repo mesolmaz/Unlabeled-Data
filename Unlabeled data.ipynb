{
 "cells": [
  {
   "cell_type": "markdown",
   "metadata": {},
   "source": [
    "## Dealing with unlabeled data (Semi-supervised learning)\n",
    "### Case Study (MNIST-Fashion dataset)\n",
    "### by Mehmet Solmaz, August 2018\n",
    "\n",
    "#### Problem definition: Given a huge dataset, only a small part of which is assigned a known label (out of a set of N), and also given a human labeler that comes at a cost. How to build a classifier while minimizing the cost?\n",
    "#### In other words, formally given: <br> (1) A small dataset with (x,y) pairs,<br> (2) Large dataset with (x,) pairs. <br> Our goal is to find a better classifier than from just the labeled data alone. \n",
    "\n",
    "Firstly, this problem is between Supervised and Unsupervised Learning algorithms (Semi-supervised). We only have certain amount of labeled data. In the case of Big Data, the percentage of labeled data could be less than 1%. Even if we get a human labeler at a certain cost, we might not be able to label each data point.<br>\n",
    "Here are some approaches to be considered:\n",
    "\n",
    "1- First approach could be using the small subset of data for training, and use it to label the rest of the unlabeled data. Then use it to retrain the whole dataset and build a model <br>\n",
    "2- Second approach could be using Clustering on the dataset. We can decide the class by looking at the majority of labeled data points in that cluster. \n",
    "\n",
    "In this notebook, I have tried to simulate the first approach on an MNIST-Fashion image dataset. Image dataset was chosen because they require a human labeler for classification purposes.<br>\n",
    "\n",
    "MNIST-Fashion dataset comes with all the data labeled. To mimick a semi-supervised learning problem, I have deliberately removed certain percentages (99%, 95%, 90%, and 80%) of data and built classifiers with minimal data. That is, I have built classifiers with 1%, 5%, 10%, 20% of the initial data while randomly removing the rest. At each time, I have predicted the labels of unused data using the ML model, and compared with the Ground Truth (already labeled data). I have also built a classifier using 100% of the data and obtained performance metrics. \n",
    "\n",
    "For each classifier, I recorded the f1-scores, which were later used in Curve-Fitting to obtain a trend between Used Data Percentage and f1-score. The fitted function (logarithmic) reveals that there is a inflexion point where the increase in f1-score slows down. In this experiment, the inflexion point is around 15%. This point can be used as the minimum performance point to be reached via the help of human labelers. \n",
    "\n",
    "To sum up, to minimize the cost associated with human labelers, they should be used to add labels to the dataset only in the large performance increment regime. If the performance of the classifier starts slowing down at consecutive increments, this is the point to stop human labeling because there may not be any substantial improvement in classification performance.\n",
    "\n",
    "__Footnote__: Another dataset may not show the same behavior as MNIST. From what I have gathered from the literature, datasets with high quality labels are more suitable for this approach. MNIST is one of them. "
   ]
  },
  {
   "cell_type": "code",
   "execution_count": 1,
   "metadata": {},
   "outputs": [
    {
     "name": "stderr",
     "output_type": "stream",
     "text": [
      "Using TensorFlow backend.\n"
     ]
    }
   ],
   "source": [
    "import matplotlib\n",
    "matplotlib.use(\"Agg\")\n",
    "%matplotlib inline\n",
    "# import the necessary packages\n",
    "from keras.optimizers import Adam, RMSprop, SGD\n",
    "from sklearn.model_selection import train_test_split\n",
    "from keras.utils import to_categorical\n",
    "from keras.utils import plot_model\n",
    "from keras.models import load_model\n",
    "from keras.models import Sequential\n",
    "from keras.layers import Conv2D, MaxPooling2D\n",
    "from keras.layers import Activation, Dropout, Flatten, Dense\n",
    "from keras.layers.normalization import BatchNormalization\n",
    "import matplotlib.pyplot as plt\n",
    "import numpy as np\n",
    "import argparse\n",
    "import random\n",
    "import cv2\n",
    "from sklearn.metrics import confusion_matrix, classification_report\n",
    "from scipy.optimize import curve_fit"
   ]
  },
  {
   "cell_type": "code",
   "execution_count": 2,
   "metadata": {},
   "outputs": [],
   "source": [
    "from keras.datasets import fashion_mnist"
   ]
  },
  {
   "cell_type": "code",
   "execution_count": 3,
   "metadata": {},
   "outputs": [],
   "source": [
    "(x_train, y_train), (X_test, Y_test) = fashion_mnist.load_data()"
   ]
  },
  {
   "cell_type": "code",
   "execution_count": 4,
   "metadata": {},
   "outputs": [
    {
     "name": "stdout",
     "output_type": "stream",
     "text": [
      "x_train shape: (60000, 28, 28) y_train shape: (60000,)\n",
      "x_test shape: (10000, 28, 28) y_test shape: (10000,)\n"
     ]
    }
   ],
   "source": [
    "print(\"x_train shape:\", x_train.shape, \"y_train shape:\", y_train.shape)\n",
    "print(\"x_test shape:\", X_test.shape, \"y_test shape:\", Y_test.shape)"
   ]
  },
  {
   "cell_type": "code",
   "execution_count": 5,
   "metadata": {},
   "outputs": [
    {
     "name": "stdout",
     "output_type": "stream",
     "text": [
      "Example image from class 8\n"
     ]
    },
    {
     "data": {
      "image/png": "[encoded data removed]",
      "text/plain": [
       "<matplotlib.figure.Figure at 0x1231a2978>"
      ]
     },
     "metadata": {},
     "output_type": "display_data"
    }
   ],
   "source": [
    "# Show one of the images from the training dataset\n",
    "index = 233\n",
    "plt.imshow(x_train[index,:,:])\n",
    "print (\"Example image from class \" + str(np.squeeze(y_train[index])))"
   ]
  },
  {
   "cell_type": "code",
   "execution_count": 6,
   "metadata": {},
   "outputs": [],
   "source": [
    "x_train = x_train.reshape([-1, 28, 28, 1])\n",
    "X_test = X_test.reshape([-1, 28, 28, 1])"
   ]
  },
  {
   "cell_type": "code",
   "execution_count": 7,
   "metadata": {},
   "outputs": [
    {
     "name": "stdout",
     "output_type": "stream",
     "text": [
      "x_train shape: (60000, 28, 28, 1) y_train shape: (60000,)\n",
      "x_test shape: (10000, 28, 28, 1) y_test shape: (10000,)\n"
     ]
    }
   ],
   "source": [
    "print(\"x_train shape:\", x_train.shape, \"y_train shape:\", y_train.shape)\n",
    "print(\"x_test shape:\", X_test.shape, \"y_test shape:\", Y_test.shape)"
   ]
  },
  {
   "cell_type": "code",
   "execution_count": 8,
   "metadata": {},
   "outputs": [],
   "source": [
    "# Split the training data into Train, and Validation \n",
    "# Use test for prediction\n",
    "X_train, X_val, Y_train, Y_val = train_test_split(x_train, y_train, test_size=0.20, random_state=42)"
   ]
  },
  {
   "cell_type": "code",
   "execution_count": 9,
   "metadata": {},
   "outputs": [
    {
     "name": "stdout",
     "output_type": "stream",
     "text": [
      "number of training examples = 48000\n",
      "number of test examples = 10000\n",
      "number of validation examples = 12000\n",
      "X_train shape: (48000, 28, 28, 1)\n",
      "Y_train shape: (48000, 10)\n",
      "X_test shape: (10000, 28, 28, 1)\n",
      "Y_test shape: (10000, 10)\n",
      "X_val shape: (12000, 28, 28, 1)\n",
      "Y_val shape: (12000, 10)\n"
     ]
    }
   ],
   "source": [
    "X_train = np.divide(X_train,255)\n",
    "X_test = np.divide(X_test,255)\n",
    "X_val = np.divide(X_val,255)\n",
    "Y_train = to_categorical(Y_train)\n",
    "Y_test = to_categorical(Y_test)\n",
    "Y_val = to_categorical(Y_val)\n",
    "print (\"number of training examples = \" + str(X_train.shape[0]))\n",
    "print (\"number of test examples = \" + str(X_test.shape[0]))\n",
    "print (\"number of validation examples = \" + str(X_val.shape[0]))\n",
    "print (\"X_train shape: \" + str(X_train.shape))\n",
    "print (\"Y_train shape: \" + str(Y_train.shape))\n",
    "print (\"X_test shape: \" + str(X_test.shape))\n",
    "print (\"Y_test shape: \" + str(Y_test.shape))\n",
    "print (\"X_val shape: \" + str(X_val.shape))\n",
    "print (\"Y_val shape: \" + str(Y_val.shape))"
   ]
  },
  {
   "cell_type": "code",
   "execution_count": 10,
   "metadata": {
    "collapsed": true
   },
   "outputs": [],
   "source": [
    "model = Sequential()\n",
    "model.add(Conv2D(64, (3, 3), input_shape=(28, 28, 1)))\n",
    "model.add(Activation('relu'))\n",
    "model.add(MaxPooling2D(pool_size=(2, 2)))\n",
    "model.add(Dropout(0.25))\n",
    "\n",
    "model.add(Conv2D(32, (3, 3)))\n",
    "model.add(Activation('relu'))\n",
    "model.add(MaxPooling2D(pool_size=(2, 2)))\n",
    "model.add(Dropout(0.25))\n",
    "\n",
    "model.add(Flatten())  # this converts our 3D feature maps to 1D feature vectors\n",
    "model.add(Dense(128, activation='relu'))\n",
    "model.add(Dropout(0.5))\n",
    "model.add(Dense(10, activation='softmax')) # 10 classes"
   ]
  },
  {
   "cell_type": "code",
   "execution_count": 11,
   "metadata": {},
   "outputs": [
    {
     "name": "stdout",
     "output_type": "stream",
     "text": [
      "_________________________________________________________________\n",
      "Layer (type)                 Output Shape              Param #   \n",
      "=================================================================\n",
      "conv2d_1 (Conv2D)            (None, 26, 26, 64)        640       \n",
      "_________________________________________________________________\n",
      "activation_1 (Activation)    (None, 26, 26, 64)        0         \n",
      "_________________________________________________________________\n",
      "max_pooling2d_1 (MaxPooling2 (None, 13, 13, 64)        0         \n",
      "_________________________________________________________________\n",
      "dropout_1 (Dropout)          (None, 13, 13, 64)        0         \n",
      "_________________________________________________________________\n",
      "conv2d_2 (Conv2D)            (None, 11, 11, 32)        18464     \n",
      "_________________________________________________________________\n",
      "activation_2 (Activation)    (None, 11, 11, 32)        0         \n",
      "_________________________________________________________________\n",
      "max_pooling2d_2 (MaxPooling2 (None, 5, 5, 32)          0         \n",
      "_________________________________________________________________\n",
      "dropout_2 (Dropout)          (None, 5, 5, 32)          0         \n",
      "_________________________________________________________________\n",
      "flatten_1 (Flatten)          (None, 800)               0         \n",
      "_________________________________________________________________\n",
      "dense_1 (Dense)              (None, 128)               102528    \n",
      "_________________________________________________________________\n",
      "dropout_3 (Dropout)          (None, 128)               0         \n",
      "_________________________________________________________________\n",
      "dense_2 (Dense)              (None, 10)                1290      \n",
      "=================================================================\n",
      "Total params: 122,922\n",
      "Trainable params: 122,922\n",
      "Non-trainable params: 0\n",
      "_________________________________________________________________\n"
     ]
    }
   ],
   "source": [
    "model.summary()"
   ]
  },
  {
   "cell_type": "code",
   "execution_count": 12,
   "metadata": {
    "collapsed": true
   },
   "outputs": [],
   "source": [
    "adam = Adam(lr=0.001, beta_1=0.9, beta_2=0.999, epsilon=1e-03, decay=0.0)\n",
    "model.compile(loss='categorical_crossentropy', optimizer=adam, metrics=['accuracy'])"
   ]
  },
  {
   "cell_type": "code",
   "execution_count": 13,
   "metadata": {},
   "outputs": [
    {
     "name": "stdout",
     "output_type": "stream",
     "text": [
      "Train on 48000 samples, validate on 12000 samples\n",
      "Epoch 1/20\n",
      "48000/48000 [==============================] - 110s 2ms/step - loss: 0.7564 - acc: 0.7177 - val_loss: 0.4531 - val_acc: 0.8425\n",
      "Epoch 2/20\n",
      "48000/48000 [==============================] - 109s 2ms/step - loss: 0.4862 - acc: 0.8215 - val_loss: 0.3646 - val_acc: 0.8658\n",
      "Epoch 3/20\n",
      "48000/48000 [==============================] - 106s 2ms/step - loss: 0.4170 - acc: 0.8482 - val_loss: 0.3250 - val_acc: 0.8809\n",
      "Epoch 4/20\n",
      "48000/48000 [==============================] - 90s 2ms/step - loss: 0.3818 - acc: 0.8596 - val_loss: 0.3172 - val_acc: 0.8839\n",
      "Epoch 5/20\n",
      "48000/48000 [==============================] - 90s 2ms/step - loss: 0.3599 - acc: 0.8679 - val_loss: 0.3044 - val_acc: 0.8883\n",
      "Epoch 6/20\n",
      "48000/48000 [==============================] - 91s 2ms/step - loss: 0.3460 - acc: 0.8723 - val_loss: 0.2865 - val_acc: 0.8949\n",
      "Epoch 7/20\n",
      "48000/48000 [==============================] - 92s 2ms/step - loss: 0.3316 - acc: 0.8780 - val_loss: 0.2841 - val_acc: 0.8945\n",
      "Epoch 8/20\n",
      "48000/48000 [==============================] - 90s 2ms/step - loss: 0.3225 - acc: 0.8818 - val_loss: 0.2753 - val_acc: 0.8982\n",
      "Epoch 9/20\n",
      "48000/48000 [==============================] - 91s 2ms/step - loss: 0.3110 - acc: 0.8846 - val_loss: 0.2665 - val_acc: 0.9032\n",
      "Epoch 10/20\n",
      "48000/48000 [==============================] - 91s 2ms/step - loss: 0.3068 - acc: 0.8854 - val_loss: 0.2580 - val_acc: 0.9043\n",
      "Epoch 11/20\n",
      "48000/48000 [==============================] - 90s 2ms/step - loss: 0.2974 - acc: 0.8896 - val_loss: 0.2851 - val_acc: 0.8922\n",
      "Epoch 12/20\n",
      "48000/48000 [==============================] - 90s 2ms/step - loss: 0.2943 - acc: 0.8911 - val_loss: 0.2592 - val_acc: 0.9023\n",
      "Epoch 13/20\n",
      "48000/48000 [==============================] - 91s 2ms/step - loss: 0.2918 - acc: 0.8914 - val_loss: 0.2535 - val_acc: 0.9058\n",
      "Epoch 14/20\n",
      "48000/48000 [==============================] - 93s 2ms/step - loss: 0.2843 - acc: 0.8935 - val_loss: 0.2535 - val_acc: 0.9064\n",
      "Epoch 15/20\n",
      "48000/48000 [==============================] - 90s 2ms/step - loss: 0.2786 - acc: 0.8961 - val_loss: 0.2515 - val_acc: 0.9059\n",
      "Epoch 16/20\n",
      "48000/48000 [==============================] - 102s 2ms/step - loss: 0.2773 - acc: 0.8953 - val_loss: 0.2495 - val_acc: 0.9042\n",
      "Epoch 17/20\n",
      "48000/48000 [==============================] - 108s 2ms/step - loss: 0.2758 - acc: 0.8967 - val_loss: 0.2432 - val_acc: 0.9082\n",
      "Epoch 18/20\n",
      "48000/48000 [==============================] - 109s 2ms/step - loss: 0.2706 - acc: 0.8998 - val_loss: 0.2445 - val_acc: 0.9087\n",
      "Epoch 19/20\n",
      "48000/48000 [==============================] - 107s 2ms/step - loss: 0.2664 - acc: 0.8992 - val_loss: 0.2407 - val_acc: 0.9087\n",
      "Epoch 20/20\n",
      "48000/48000 [==============================] - 91s 2ms/step - loss: 0.2671 - acc: 0.9013 - val_loss: 0.2450 - val_acc: 0.9062\n"
     ]
    }
   ],
   "source": [
    "my_model = model.fit(X_train, Y_train, validation_data=(X_val, Y_val), batch_size=32, epochs=20,shuffle=True)"
   ]
  },
  {
   "cell_type": "code",
   "execution_count": 14,
   "metadata": {},
   "outputs": [
    {
     "name": "stdout",
     "output_type": "stream",
     "text": [
      "Test accuracy Acquired: 0.9032\n"
     ]
    }
   ],
   "source": [
    "test_loss, test_accuracy = model.evaluate(X_test, Y_test, verbose=0)\n",
    "print('Test accuracy Acquired:', test_accuracy)"
   ]
  },
  {
   "cell_type": "code",
   "execution_count": 15,
   "metadata": {},
   "outputs": [
    {
     "name": "stdout",
     "output_type": "stream",
     "text": [
      "dict_keys(['val_acc', 'loss', 'val_loss', 'acc'])\n"
     ]
    }
   ],
   "source": [
    "print(my_model.history.keys())"
   ]
  },
  {
   "cell_type": "code",
   "execution_count": 16,
   "metadata": {},
   "outputs": [
    {
     "data": {
      "image/png": "[encoded data removed]",
      "text/plain": [
       "<matplotlib.figure.Figure at 0x149738048>"
      ]
     },
     "metadata": {},
     "output_type": "display_data"
    },
    {
     "data": {
      "image/png": "[encoded data removed]",
      "text/plain": [
       "<matplotlib.figure.Figure at 0x149742b38>"
      ]
     },
     "metadata": {},
     "output_type": "display_data"
    }
   ],
   "source": [
    "# summarize history for accuracy\n",
    "plt.plot(my_model.history['acc'], 'bo')\n",
    "plt.plot(my_model.history['val_acc'], 'rs')\n",
    "plt.title('model accuracy', fontsize=18)\n",
    "plt.ylabel('accuracy', fontsize=14)\n",
    "plt.xlabel('epoch', fontsize=14)\n",
    "plt.legend(['train', 'validation'], loc='lower right')\n",
    "plt.savefig('accuracy_vs_epoch.png')\n",
    "plt.show()\n",
    "# summarize history for loss\n",
    "plt.plot(my_model.history['loss'], 'bo')\n",
    "plt.plot(my_model.history['val_loss'], 'rs')\n",
    "plt.title('model loss', fontsize=18)\n",
    "plt.ylabel('loss', fontsize=14)\n",
    "plt.xlabel('epoch', fontsize=14)\n",
    "plt.legend(['train', 'validation'], loc='upper right')\n",
    "plt.show()"
   ]
  },
  {
   "cell_type": "code",
   "execution_count": 17,
   "metadata": {
    "collapsed": true
   },
   "outputs": [],
   "source": [
    "predictions = model.predict_classes(X_test)"
   ]
  },
  {
   "cell_type": "code",
   "execution_count": 18,
   "metadata": {},
   "outputs": [
    {
     "name": "stdout",
     "output_type": "stream",
     "text": [
      "             precision    recall  f1-score   support\n",
      "\n",
      "          0       0.85      0.86      0.86      1000\n",
      "          1       0.98      0.98      0.98      1000\n",
      "          2       0.87      0.83      0.85      1000\n",
      "          3       0.92      0.89      0.91      1000\n",
      "          4       0.80      0.89      0.85      1000\n",
      "          5       0.99      0.97      0.98      1000\n",
      "          6       0.72      0.70      0.71      1000\n",
      "          7       0.94      0.97      0.96      1000\n",
      "          8       0.98      0.98      0.98      1000\n",
      "          9       0.97      0.96      0.96      1000\n",
      "\n",
      "avg / total       0.90      0.90      0.90     10000\n",
      "\n"
     ]
    }
   ],
   "source": [
    "print(classification_report(np.argmax(Y_test,axis=1),predictions))"
   ]
  },
  {
   "cell_type": "code",
   "execution_count": 19,
   "metadata": {
    "collapsed": true
   },
   "outputs": [],
   "source": [
    "avg_f1_score_100 = 0.90"
   ]
  },
  {
   "cell_type": "markdown",
   "metadata": {},
   "source": [
    "### Now lets start building a new classifier with only 1% of the initial dataset"
   ]
  },
  {
   "cell_type": "code",
   "execution_count": 20,
   "metadata": {
    "collapsed": true
   },
   "outputs": [],
   "source": [
    "# reload the data\n",
    "(x_train, y_train), (X_test, Y_test) = fashion_mnist.load_data()"
   ]
  },
  {
   "cell_type": "code",
   "execution_count": 21,
   "metadata": {
    "collapsed": true
   },
   "outputs": [],
   "source": [
    "# Concatenate Train and Test set\n",
    "X = np.concatenate((x_train, X_test),axis=0)\n",
    "Y = np.concatenate((y_train, Y_test),axis=0)"
   ]
  },
  {
   "cell_type": "code",
   "execution_count": 22,
   "metadata": {},
   "outputs": [
    {
     "name": "stdout",
     "output_type": "stream",
     "text": [
      "X shape: (70000, 28, 28) Y shape: (70000,)\n"
     ]
    }
   ],
   "source": [
    "print(\"X shape:\", X.shape, \"Y shape:\", Y.shape)"
   ]
  },
  {
   "cell_type": "code",
   "execution_count": 23,
   "metadata": {},
   "outputs": [
    {
     "data": {
      "text/plain": [
       "<matplotlib.text.Text at 0x110bd66a0>"
      ]
     },
     "execution_count": 23,
     "metadata": {},
     "output_type": "execute_result"
    },
    {
     "data": {
      "image/png": "[encoded data removed]",
      "text/plain": [
       "<matplotlib.figure.Figure at 0x149604f98>"
      ]
     },
     "metadata": {},
     "output_type": "display_data"
    }
   ],
   "source": [
    "plt.hist(Y, bins='auto')\n",
    "plt.title(\"Training Label Histogram\")"
   ]
  },
  {
   "cell_type": "markdown",
   "metadata": {},
   "source": [
    "__Each class has 7000 data points, when train and test are combined__"
   ]
  },
  {
   "cell_type": "code",
   "execution_count": 24,
   "metadata": {
    "collapsed": true
   },
   "outputs": [],
   "source": [
    "# this is small preprocessor function that find the class labels and replaces Certain percentage\n",
    "# of each class with label 10\n",
    "# I picked label 10 because it doesn't exist among the labels.\n",
    "def remove_labels_randomly(Y,percntage):\n",
    "    y_new = np.copy(Y)\n",
    "    for i in range(0,10):\n",
    "        # find the index of i's\n",
    "        my_bin = list(np.where(Y == i))\n",
    "        # calculate the percentage of data to be processed\n",
    "        my_percentage = percntage\n",
    "        num_iterations = int(len(my_bin[0])*my_percentage)\n",
    "        # generate random numbers in range of my_bin and the size of num_iterations\n",
    "        my_index = np.random.choice(range(len(my_bin[0])), num_iterations, replace=False)\n",
    "        for j in range(0,num_iterations):\n",
    "            new_index = my_bin[0][(my_index[j])]\n",
    "            y_new[new_index] = 10\n",
    "    return y_new"
   ]
  },
  {
   "cell_type": "code",
   "execution_count": 25,
   "metadata": {
    "collapsed": true
   },
   "outputs": [],
   "source": [
    "# Create new training label with 1% of labels left (99% removed randomly)\n",
    "y_01 = remove_labels_randomly(Y,0.99)"
   ]
  },
  {
   "cell_type": "code",
   "execution_count": 26,
   "metadata": {},
   "outputs": [
    {
     "data": {
      "text/plain": [
       "(70000,)"
      ]
     },
     "execution_count": 26,
     "metadata": {},
     "output_type": "execute_result"
    }
   ],
   "source": [
    "y_01.shape"
   ]
  },
  {
   "cell_type": "code",
   "execution_count": 27,
   "metadata": {
    "collapsed": true
   },
   "outputs": [],
   "source": [
    "# 99% of labels are 10\n",
    "remove_99_percent = list(np.where(y_01 == 10))\n",
    "# 1% of the labels are from 0-9\n",
    "leave_01_percent = list(np.where(y_01 != 10))"
   ]
  },
  {
   "cell_type": "code",
   "execution_count": 28,
   "metadata": {},
   "outputs": [
    {
     "data": {
      "text/plain": [
       "69300"
      ]
     },
     "execution_count": 28,
     "metadata": {},
     "output_type": "execute_result"
    }
   ],
   "source": [
    "len(remove_99_percent[0])"
   ]
  },
  {
   "cell_type": "code",
   "execution_count": 29,
   "metadata": {
    "collapsed": true
   },
   "outputs": [],
   "source": [
    "# 99% of the labels in the original labels are saved for future\n",
    "y_99 = np.delete(Y, leave_01_percent)\n",
    "# 1% of the labels\n",
    "y_01 = np.delete(y_01, remove_99_percent)"
   ]
  },
  {
   "cell_type": "code",
   "execution_count": 30,
   "metadata": {},
   "outputs": [
    {
     "data": {
      "text/plain": [
       "(700,)"
      ]
     },
     "execution_count": 30,
     "metadata": {},
     "output_type": "execute_result"
    }
   ],
   "source": [
    "y_01.shape"
   ]
  },
  {
   "cell_type": "code",
   "execution_count": 31,
   "metadata": {
    "collapsed": true
   },
   "outputs": [],
   "source": [
    "# 1% of the feature set\n",
    "x_01 = np.delete(X, remove_99_percent,0)\n",
    "# 99% of the feature set\n",
    "x_99 = np.delete(X, leave_01_percent,0)"
   ]
  },
  {
   "cell_type": "code",
   "execution_count": 32,
   "metadata": {},
   "outputs": [
    {
     "data": {
      "text/plain": [
       "(700, 28, 28)"
      ]
     },
     "execution_count": 32,
     "metadata": {},
     "output_type": "execute_result"
    }
   ],
   "source": [
    "x_01.shape"
   ]
  },
  {
   "cell_type": "code",
   "execution_count": 33,
   "metadata": {},
   "outputs": [
    {
     "data": {
      "text/plain": [
       "(69300, 28, 28)"
      ]
     },
     "execution_count": 33,
     "metadata": {},
     "output_type": "execute_result"
    }
   ],
   "source": [
    "x_99.shape"
   ]
  },
  {
   "cell_type": "code",
   "execution_count": 34,
   "metadata": {
    "collapsed": true
   },
   "outputs": [],
   "source": [
    "x_01 = x_01.reshape([-1, 28, 28, 1])"
   ]
  },
  {
   "cell_type": "code",
   "execution_count": 35,
   "metadata": {
    "collapsed": true
   },
   "outputs": [],
   "source": [
    "# use 1% of the data for building a model\n",
    "# Split the data into Train, Test, and Validation \n",
    "X_train, X_test, y_train, y_test = train_test_split(x_01, y_01, test_size=0.20, random_state=42)\n",
    "X_train, X_val, y_train, y_val = train_test_split(X_train, y_train, test_size=0.20, random_state=42)"
   ]
  },
  {
   "cell_type": "code",
   "execution_count": 36,
   "metadata": {},
   "outputs": [
    {
     "name": "stdout",
     "output_type": "stream",
     "text": [
      "number of training examples = 448\n",
      "number of test examples = 140\n",
      "number of validation examples = 112\n",
      "X_train shape: (448, 28, 28, 1)\n",
      "Y_train shape: (448, 10)\n",
      "X_test shape: (140, 28, 28, 1)\n",
      "Y_test shape: (140, 10)\n",
      "X_val shape: (112, 28, 28, 1)\n",
      "Y_val shape: (112, 10)\n"
     ]
    }
   ],
   "source": [
    "X_train = np.divide(X_train,255)\n",
    "X_test = np.divide(X_test,255)\n",
    "X_val = np.divide(X_val,255)\n",
    "Y_train = to_categorical(y_train)\n",
    "Y_test = to_categorical(y_test)\n",
    "Y_val = to_categorical(y_val)\n",
    "print (\"number of training examples = \" + str(X_train.shape[0]))\n",
    "print (\"number of test examples = \" + str(X_test.shape[0]))\n",
    "print (\"number of validation examples = \" + str(X_val.shape[0]))\n",
    "print (\"X_train shape: \" + str(X_train.shape))\n",
    "print (\"Y_train shape: \" + str(Y_train.shape))\n",
    "print (\"X_test shape: \" + str(X_test.shape))\n",
    "print (\"Y_test shape: \" + str(Y_test.shape))\n",
    "print (\"X_val shape: \" + str(X_val.shape))\n",
    "print (\"Y_val shape: \" + str(Y_val.shape))"
   ]
  },
  {
   "cell_type": "code",
   "execution_count": 37,
   "metadata": {
    "collapsed": true
   },
   "outputs": [],
   "source": [
    "# create a new model for 5% labeled data\n",
    "model_01 = Sequential()\n",
    "model_01.add(Conv2D(64, (3, 3), input_shape=(28, 28, 1)))\n",
    "model_01.add(Activation('relu'))\n",
    "model_01.add(MaxPooling2D(pool_size=(2, 2)))\n",
    "model_01.add(Dropout(0.25))\n",
    "\n",
    "model_01.add(Conv2D(32, (3, 3)))\n",
    "model_01.add(Activation('relu'))\n",
    "model_01.add(MaxPooling2D(pool_size=(2, 2)))\n",
    "model_01.add(Dropout(0.25))\n",
    "\n",
    "model_01.add(Flatten())  # this converts our 3D feature maps to 1D feature vectors\n",
    "model_01.add(Dense(128, activation='relu'))\n",
    "model_01.add(Dropout(0.5))\n",
    "model_01.add(Dense(10, activation='softmax')) # 10 classes"
   ]
  },
  {
   "cell_type": "code",
   "execution_count": 38,
   "metadata": {},
   "outputs": [
    {
     "name": "stdout",
     "output_type": "stream",
     "text": [
      "_________________________________________________________________\n",
      "Layer (type)                 Output Shape              Param #   \n",
      "=================================================================\n",
      "conv2d_3 (Conv2D)            (None, 26, 26, 64)        640       \n",
      "_________________________________________________________________\n",
      "activation_3 (Activation)    (None, 26, 26, 64)        0         \n",
      "_________________________________________________________________\n",
      "max_pooling2d_3 (MaxPooling2 (None, 13, 13, 64)        0         \n",
      "_________________________________________________________________\n",
      "dropout_4 (Dropout)          (None, 13, 13, 64)        0         \n",
      "_________________________________________________________________\n",
      "conv2d_4 (Conv2D)            (None, 11, 11, 32)        18464     \n",
      "_________________________________________________________________\n",
      "activation_4 (Activation)    (None, 11, 11, 32)        0         \n",
      "_________________________________________________________________\n",
      "max_pooling2d_4 (MaxPooling2 (None, 5, 5, 32)          0         \n",
      "_________________________________________________________________\n",
      "dropout_5 (Dropout)          (None, 5, 5, 32)          0         \n",
      "_________________________________________________________________\n",
      "flatten_2 (Flatten)          (None, 800)               0         \n",
      "_________________________________________________________________\n",
      "dense_3 (Dense)              (None, 128)               102528    \n",
      "_________________________________________________________________\n",
      "dropout_6 (Dropout)          (None, 128)               0         \n",
      "_________________________________________________________________\n",
      "dense_4 (Dense)              (None, 10)                1290      \n",
      "=================================================================\n",
      "Total params: 122,922\n",
      "Trainable params: 122,922\n",
      "Non-trainable params: 0\n",
      "_________________________________________________________________\n"
     ]
    }
   ],
   "source": [
    "model_01.summary()"
   ]
  },
  {
   "cell_type": "code",
   "execution_count": 39,
   "metadata": {
    "collapsed": true
   },
   "outputs": [],
   "source": [
    "adam = Adam(lr=0.001, beta_1=0.9, beta_2=0.999, epsilon=1e-03, decay=0.0)\n",
    "model_01.compile(loss='categorical_crossentropy', optimizer=adam, metrics=['accuracy'])"
   ]
  },
  {
   "cell_type": "code",
   "execution_count": 40,
   "metadata": {},
   "outputs": [
    {
     "name": "stdout",
     "output_type": "stream",
     "text": [
      "Train on 448 samples, validate on 112 samples\n",
      "Epoch 1/20\n",
      "448/448 [==============================] - 2s 4ms/step - loss: 2.2862 - acc: 0.1295 - val_loss: 2.2370 - val_acc: 0.3036\n",
      "Epoch 2/20\n",
      "448/448 [==============================] - 1s 2ms/step - loss: 2.2176 - acc: 0.1808 - val_loss: 2.1286 - val_acc: 0.4643\n",
      "Epoch 3/20\n",
      "448/448 [==============================] - 1s 2ms/step - loss: 2.0521 - acc: 0.2746 - val_loss: 1.8794 - val_acc: 0.5268\n",
      "Epoch 4/20\n",
      "448/448 [==============================] - 1s 2ms/step - loss: 1.8498 - acc: 0.3638 - val_loss: 1.5407 - val_acc: 0.5446\n",
      "Epoch 5/20\n",
      "448/448 [==============================] - 1s 2ms/step - loss: 1.6585 - acc: 0.4241 - val_loss: 1.3832 - val_acc: 0.5625\n",
      "Epoch 6/20\n",
      "448/448 [==============================] - 1s 2ms/step - loss: 1.5050 - acc: 0.4554 - val_loss: 1.2528 - val_acc: 0.5714\n",
      "Epoch 7/20\n",
      "448/448 [==============================] - 1s 2ms/step - loss: 1.4331 - acc: 0.4754 - val_loss: 1.1769 - val_acc: 0.5714\n",
      "Epoch 8/20\n",
      "448/448 [==============================] - 1s 2ms/step - loss: 1.3534 - acc: 0.4821 - val_loss: 1.1120 - val_acc: 0.5893\n",
      "Epoch 9/20\n",
      "448/448 [==============================] - 1s 2ms/step - loss: 1.2823 - acc: 0.5268 - val_loss: 1.1002 - val_acc: 0.6607\n",
      "Epoch 10/20\n",
      "448/448 [==============================] - 1s 2ms/step - loss: 1.2143 - acc: 0.5580 - val_loss: 0.9963 - val_acc: 0.6429\n",
      "Epoch 11/20\n",
      "448/448 [==============================] - 1s 2ms/step - loss: 1.1676 - acc: 0.5804 - val_loss: 0.9986 - val_acc: 0.6696\n",
      "Epoch 12/20\n",
      "448/448 [==============================] - 1s 2ms/step - loss: 1.0684 - acc: 0.6071 - val_loss: 0.9533 - val_acc: 0.6964\n",
      "Epoch 13/20\n",
      "448/448 [==============================] - 1s 2ms/step - loss: 1.0283 - acc: 0.6228 - val_loss: 0.8861 - val_acc: 0.6696\n",
      "Epoch 14/20\n",
      "448/448 [==============================] - 1s 2ms/step - loss: 0.9878 - acc: 0.6272 - val_loss: 0.8639 - val_acc: 0.7143\n",
      "Epoch 15/20\n",
      "448/448 [==============================] - 1s 2ms/step - loss: 0.9823 - acc: 0.6317 - val_loss: 0.8794 - val_acc: 0.6964\n",
      "Epoch 16/20\n",
      "448/448 [==============================] - 1s 2ms/step - loss: 0.9238 - acc: 0.6295 - val_loss: 0.8632 - val_acc: 0.6964\n",
      "Epoch 17/20\n",
      "448/448 [==============================] - 1s 2ms/step - loss: 0.8639 - acc: 0.6808 - val_loss: 0.8597 - val_acc: 0.7143\n",
      "Epoch 18/20\n",
      "448/448 [==============================] - 1s 2ms/step - loss: 0.8266 - acc: 0.7031 - val_loss: 0.8004 - val_acc: 0.7143\n",
      "Epoch 19/20\n",
      "448/448 [==============================] - 1s 2ms/step - loss: 0.8169 - acc: 0.6942 - val_loss: 0.7954 - val_acc: 0.6964\n",
      "Epoch 20/20\n",
      "448/448 [==============================] - 1s 2ms/step - loss: 0.7902 - acc: 0.7054 - val_loss: 0.7640 - val_acc: 0.6964\n"
     ]
    }
   ],
   "source": [
    "my_model_01 = model_01.fit(X_train, Y_train, validation_data=(X_val, Y_val), batch_size=32, epochs=20,shuffle=True)"
   ]
  },
  {
   "cell_type": "code",
   "execution_count": 41,
   "metadata": {},
   "outputs": [
    {
     "name": "stdout",
     "output_type": "stream",
     "text": [
      "Test accuracy Acquired: 0.692857142857\n"
     ]
    }
   ],
   "source": [
    "test_loss, test_accuracy = model_01.evaluate(X_test, Y_test, verbose=0)\n",
    "print('Test accuracy Acquired:', test_accuracy)"
   ]
  },
  {
   "cell_type": "code",
   "execution_count": 42,
   "metadata": {
    "collapsed": true
   },
   "outputs": [],
   "source": [
    "x_99_reshaped = x_99.reshape([-1, 28, 28, 1])"
   ]
  },
  {
   "cell_type": "code",
   "execution_count": 43,
   "metadata": {},
   "outputs": [
    {
     "data": {
      "text/plain": [
       "(69300, 28, 28, 1)"
      ]
     },
     "execution_count": 43,
     "metadata": {},
     "output_type": "execute_result"
    }
   ],
   "source": [
    "x_99_reshaped.shape"
   ]
  },
  {
   "cell_type": "code",
   "execution_count": 44,
   "metadata": {
    "collapsed": true
   },
   "outputs": [],
   "source": [
    "predictions_99 = model_01.predict_classes(x_99_reshaped)"
   ]
  },
  {
   "cell_type": "code",
   "execution_count": 45,
   "metadata": {},
   "outputs": [
    {
     "name": "stdout",
     "output_type": "stream",
     "text": [
      "             precision    recall  f1-score   support\n",
      "\n",
      "          0       0.65      0.82      0.73      6930\n",
      "          1       0.91      0.95      0.93      6930\n",
      "          2       0.56      0.61      0.59      6930\n",
      "          3       0.79      0.61      0.68      6930\n",
      "          4       0.49      0.81      0.61      6930\n",
      "          5       0.98      0.66      0.79      6930\n",
      "          6       0.31      0.08      0.12      6930\n",
      "          7       0.76      0.77      0.77      6930\n",
      "          8       0.93      0.89      0.91      6930\n",
      "          9       0.75      0.98      0.85      6930\n",
      "\n",
      "avg / total       0.71      0.72      0.70     69300\n",
      "\n"
     ]
    }
   ],
   "source": [
    "print(classification_report(y_99, predictions_99))"
   ]
  },
  {
   "cell_type": "code",
   "execution_count": 46,
   "metadata": {
    "collapsed": true
   },
   "outputs": [],
   "source": [
    "avg_f1_score_01 = 0.70"
   ]
  },
  {
   "cell_type": "markdown",
   "metadata": {},
   "source": [
    "### Now lets start building a new classifier with only 5% of the initial dataset"
   ]
  },
  {
   "cell_type": "code",
   "execution_count": 47,
   "metadata": {
    "collapsed": true
   },
   "outputs": [],
   "source": [
    "# reload the data\n",
    "(x_train, y_train), (X_test, Y_test) = fashion_mnist.load_data()"
   ]
  },
  {
   "cell_type": "code",
   "execution_count": 48,
   "metadata": {
    "collapsed": true
   },
   "outputs": [],
   "source": [
    "# Concatenate Train and Test set\n",
    "X = np.concatenate((x_train, X_test),axis=0)\n",
    "Y = np.concatenate((y_train, Y_test),axis=0)"
   ]
  },
  {
   "cell_type": "code",
   "execution_count": 49,
   "metadata": {},
   "outputs": [],
   "source": [
    "# Create new training label with 5% of labels left (95% removed randomly)\n",
    "y_05 = remove_labels_randomly(Y,0.95)"
   ]
  },
  {
   "cell_type": "code",
   "execution_count": 50,
   "metadata": {
    "collapsed": true
   },
   "outputs": [],
   "source": [
    "# 95% of labels are 10\n",
    "remove_95_percent = list(np.where(y_05 == 10))\n",
    "# 5% of the labels are from 0-9\n",
    "leave_05_percent = list(np.where(y_05 != 10))"
   ]
  },
  {
   "cell_type": "code",
   "execution_count": 51,
   "metadata": {
    "collapsed": true
   },
   "outputs": [],
   "source": [
    "# 95% of the labels in the original labels are saved for future\n",
    "y_95 = np.delete(Y, leave_05_percent)\n",
    "# 5% of the labels\n",
    "y_05 = np.delete(y_05, remove_95_percent)"
   ]
  },
  {
   "cell_type": "code",
   "execution_count": 52,
   "metadata": {
    "collapsed": true
   },
   "outputs": [],
   "source": [
    "# 5% of the feature set\n",
    "x_05 = np.delete(X, remove_95_percent,0)\n",
    "# 95% of the feature set\n",
    "x_95 = np.delete(X, leave_05_percent,0)"
   ]
  },
  {
   "cell_type": "code",
   "execution_count": 53,
   "metadata": {},
   "outputs": [
    {
     "data": {
      "text/plain": [
       "(3500, 28, 28)"
      ]
     },
     "execution_count": 53,
     "metadata": {},
     "output_type": "execute_result"
    }
   ],
   "source": [
    "x_05.shape"
   ]
  },
  {
   "cell_type": "code",
   "execution_count": 54,
   "metadata": {},
   "outputs": [
    {
     "data": {
      "text/plain": [
       "(66500, 28, 28)"
      ]
     },
     "execution_count": 54,
     "metadata": {},
     "output_type": "execute_result"
    }
   ],
   "source": [
    "x_95.shape"
   ]
  },
  {
   "cell_type": "code",
   "execution_count": 55,
   "metadata": {
    "collapsed": true
   },
   "outputs": [],
   "source": [
    "x_05 = x_05.reshape([-1, 28, 28, 1])"
   ]
  },
  {
   "cell_type": "code",
   "execution_count": 56,
   "metadata": {
    "collapsed": true
   },
   "outputs": [],
   "source": [
    "# use 5% of the data for building a model\n",
    "# Split the data into Train, Test, and Validation \n",
    "X_train, X_test, y_train, y_test = train_test_split(x_05, y_05, test_size=0.20, random_state=42)\n",
    "X_train, X_val, y_train, y_val = train_test_split(X_train, y_train, test_size=0.20, random_state=42)"
   ]
  },
  {
   "cell_type": "code",
   "execution_count": 57,
   "metadata": {},
   "outputs": [
    {
     "name": "stdout",
     "output_type": "stream",
     "text": [
      "number of training examples = 2240\n",
      "number of test examples = 700\n",
      "number of validation examples = 560\n",
      "X_train shape: (2240, 28, 28, 1)\n",
      "Y_train shape: (2240, 10)\n",
      "X_test shape: (700, 28, 28, 1)\n",
      "Y_test shape: (700, 10)\n",
      "X_val shape: (560, 28, 28, 1)\n",
      "Y_val shape: (560, 10)\n"
     ]
    }
   ],
   "source": [
    "X_train = np.divide(X_train,255)\n",
    "X_test = np.divide(X_test,255)\n",
    "X_val = np.divide(X_val,255)\n",
    "Y_train = to_categorical(y_train)\n",
    "Y_test = to_categorical(y_test)\n",
    "Y_val = to_categorical(y_val)\n",
    "print (\"number of training examples = \" + str(X_train.shape[0]))\n",
    "print (\"number of test examples = \" + str(X_test.shape[0]))\n",
    "print (\"number of validation examples = \" + str(X_val.shape[0]))\n",
    "print (\"X_train shape: \" + str(X_train.shape))\n",
    "print (\"Y_train shape: \" + str(Y_train.shape))\n",
    "print (\"X_test shape: \" + str(X_test.shape))\n",
    "print (\"Y_test shape: \" + str(Y_test.shape))\n",
    "print (\"X_val shape: \" + str(X_val.shape))\n",
    "print (\"Y_val shape: \" + str(Y_val.shape))"
   ]
  },
  {
   "cell_type": "code",
   "execution_count": 58,
   "metadata": {
    "collapsed": true
   },
   "outputs": [],
   "source": [
    "# create a new model for 5% labeled data\n",
    "model_05 = Sequential()\n",
    "model_05.add(Conv2D(64, (3, 3), input_shape=(28, 28, 1)))\n",
    "model_05.add(Activation('relu'))\n",
    "model_05.add(MaxPooling2D(pool_size=(2, 2)))\n",
    "model_05.add(Dropout(0.25))\n",
    "\n",
    "model_05.add(Conv2D(32, (3, 3)))\n",
    "model_05.add(Activation('relu'))\n",
    "model_05.add(MaxPooling2D(pool_size=(2, 2)))\n",
    "model_05.add(Dropout(0.25))\n",
    "\n",
    "model_05.add(Flatten())  # this converts our 3D feature maps to 1D feature vectors\n",
    "model_05.add(Dense(128, activation='relu'))\n",
    "model_05.add(Dropout(0.5))\n",
    "model_05.add(Dense(10, activation='softmax')) # 10 classes"
   ]
  },
  {
   "cell_type": "code",
   "execution_count": 59,
   "metadata": {
    "collapsed": true
   },
   "outputs": [],
   "source": [
    "adam = Adam(lr=0.001, beta_1=0.9, beta_2=0.999, epsilon=1e-03, decay=0.0)\n",
    "model_05.compile(loss='categorical_crossentropy', optimizer=adam, metrics=['accuracy'])"
   ]
  },
  {
   "cell_type": "code",
   "execution_count": 60,
   "metadata": {},
   "outputs": [
    {
     "name": "stdout",
     "output_type": "stream",
     "text": [
      "Train on 2240 samples, validate on 560 samples\n",
      "Epoch 1/20\n",
      "2240/2240 [==============================] - 5s 2ms/step - loss: 2.0435 - acc: 0.2616 - val_loss: 1.3654 - val_acc: 0.5054\n",
      "Epoch 2/20\n",
      "2240/2240 [==============================] - 4s 2ms/step - loss: 1.2786 - acc: 0.5357 - val_loss: 0.9022 - val_acc: 0.6964\n",
      "Epoch 3/20\n",
      "2240/2240 [==============================] - 4s 2ms/step - loss: 1.0106 - acc: 0.6357 - val_loss: 0.7924 - val_acc: 0.7125\n",
      "Epoch 4/20\n",
      "2240/2240 [==============================] - 4s 2ms/step - loss: 0.8621 - acc: 0.6888 - val_loss: 0.6885 - val_acc: 0.7482\n",
      "Epoch 5/20\n",
      "2240/2240 [==============================] - 4s 2ms/step - loss: 0.7915 - acc: 0.7161 - val_loss: 0.6621 - val_acc: 0.7518\n",
      "Epoch 6/20\n",
      "2240/2240 [==============================] - 4s 2ms/step - loss: 0.7450 - acc: 0.7313 - val_loss: 0.6545 - val_acc: 0.7589\n",
      "Epoch 7/20\n",
      "2240/2240 [==============================] - 4s 2ms/step - loss: 0.6858 - acc: 0.7455 - val_loss: 0.6216 - val_acc: 0.7750\n",
      "Epoch 8/20\n",
      "2240/2240 [==============================] - 4s 2ms/step - loss: 0.6765 - acc: 0.7527 - val_loss: 0.6079 - val_acc: 0.7750\n",
      "Epoch 9/20\n",
      "2240/2240 [==============================] - 4s 2ms/step - loss: 0.6411 - acc: 0.7531 - val_loss: 0.6165 - val_acc: 0.7714\n",
      "Epoch 10/20\n",
      "2240/2240 [==============================] - 4s 2ms/step - loss: 0.6328 - acc: 0.7647 - val_loss: 0.5938 - val_acc: 0.7750\n",
      "Epoch 11/20\n",
      "2240/2240 [==============================] - 4s 2ms/step - loss: 0.6058 - acc: 0.7772 - val_loss: 0.5831 - val_acc: 0.7804\n",
      "Epoch 12/20\n",
      "2240/2240 [==============================] - 5s 2ms/step - loss: 0.5858 - acc: 0.7754 - val_loss: 0.5553 - val_acc: 0.7893\n",
      "Epoch 13/20\n",
      "2240/2240 [==============================] - 4s 2ms/step - loss: 0.5871 - acc: 0.7804 - val_loss: 0.5491 - val_acc: 0.7857\n",
      "Epoch 14/20\n",
      "2240/2240 [==============================] - 4s 2ms/step - loss: 0.5509 - acc: 0.7871 - val_loss: 0.5596 - val_acc: 0.7982\n",
      "Epoch 15/20\n",
      "2240/2240 [==============================] - 4s 2ms/step - loss: 0.5569 - acc: 0.7817 - val_loss: 0.5203 - val_acc: 0.7946\n",
      "Epoch 16/20\n",
      "2240/2240 [==============================] - 4s 2ms/step - loss: 0.5305 - acc: 0.8036 - val_loss: 0.5273 - val_acc: 0.8268\n",
      "Epoch 17/20\n",
      "2240/2240 [==============================] - 4s 2ms/step - loss: 0.5210 - acc: 0.8121 - val_loss: 0.5363 - val_acc: 0.7982\n",
      "Epoch 18/20\n",
      "2240/2240 [==============================] - 4s 2ms/step - loss: 0.5126 - acc: 0.8054 - val_loss: 0.5133 - val_acc: 0.8232\n",
      "Epoch 19/20\n",
      "2240/2240 [==============================] - 4s 2ms/step - loss: 0.4837 - acc: 0.8161 - val_loss: 0.5291 - val_acc: 0.8054\n",
      "Epoch 20/20\n",
      "2240/2240 [==============================] - 4s 2ms/step - loss: 0.5027 - acc: 0.8183 - val_loss: 0.5026 - val_acc: 0.8179\n"
     ]
    }
   ],
   "source": [
    "my_model_05 = model_05.fit(X_train, Y_train, validation_data=(X_val, Y_val), batch_size=32, epochs=20,shuffle=True)"
   ]
  },
  {
   "cell_type": "code",
   "execution_count": 61,
   "metadata": {},
   "outputs": [
    {
     "name": "stdout",
     "output_type": "stream",
     "text": [
      "Test accuracy Acquired: 0.802857142517\n"
     ]
    }
   ],
   "source": [
    "test_loss, test_accuracy = model_05.evaluate(X_test, Y_test, verbose=0)\n",
    "print('Test accuracy Acquired:', test_accuracy)"
   ]
  },
  {
   "cell_type": "code",
   "execution_count": 62,
   "metadata": {
    "collapsed": true
   },
   "outputs": [],
   "source": [
    "x_95_reshaped = x_95.reshape([-1, 28, 28, 1])"
   ]
  },
  {
   "cell_type": "code",
   "execution_count": 63,
   "metadata": {
    "collapsed": true
   },
   "outputs": [],
   "source": [
    "predictions_95 = model_05.predict_classes(x_95_reshaped)"
   ]
  },
  {
   "cell_type": "code",
   "execution_count": 64,
   "metadata": {},
   "outputs": [
    {
     "name": "stdout",
     "output_type": "stream",
     "text": [
      "             precision    recall  f1-score   support\n",
      "\n",
      "          0       0.73      0.83      0.78      6650\n",
      "          1       0.94      0.97      0.95      6650\n",
      "          2       0.66      0.70      0.68      6650\n",
      "          3       0.82      0.83      0.82      6650\n",
      "          4       0.57      0.87      0.69      6650\n",
      "          5       0.96      0.92      0.94      6650\n",
      "          6       0.60      0.11      0.19      6650\n",
      "          7       0.93      0.89      0.91      6650\n",
      "          8       0.92      0.95      0.93      6650\n",
      "          9       0.90      0.96      0.93      6650\n",
      "\n",
      "avg / total       0.80      0.80      0.78     66500\n",
      "\n"
     ]
    }
   ],
   "source": [
    "print(classification_report(y_95, predictions_95))"
   ]
  },
  {
   "cell_type": "code",
   "execution_count": 108,
   "metadata": {
    "collapsed": true
   },
   "outputs": [],
   "source": [
    "avg_f1_score_05 = 0.78"
   ]
  },
  {
   "cell_type": "markdown",
   "metadata": {},
   "source": [
    "### Now lets start building a new classifier with only 10% of the initial dataset"
   ]
  },
  {
   "cell_type": "code",
   "execution_count": 66,
   "metadata": {
    "collapsed": true
   },
   "outputs": [],
   "source": [
    "# reload the data\n",
    "(x_train, y_train), (X_test, Y_test) = fashion_mnist.load_data()"
   ]
  },
  {
   "cell_type": "code",
   "execution_count": 67,
   "metadata": {},
   "outputs": [],
   "source": [
    "# Concatenate Train and Test set\n",
    "X = np.concatenate((x_train, X_test),axis=0)\n",
    "Y = np.concatenate((y_train, Y_test),axis=0)"
   ]
  },
  {
   "cell_type": "code",
   "execution_count": 68,
   "metadata": {
    "collapsed": true
   },
   "outputs": [],
   "source": [
    "y_10 = remove_labels_randomly(Y,0.90)"
   ]
  },
  {
   "cell_type": "code",
   "execution_count": 69,
   "metadata": {
    "collapsed": true
   },
   "outputs": [],
   "source": [
    "# 90% of labels are 10\n",
    "remove_90_percent = list(np.where(y_10 == 10))\n",
    "# 10% of the labels are from 0-9\n",
    "leave_10_percent = list(np.where(y_10 != 10))"
   ]
  },
  {
   "cell_type": "code",
   "execution_count": 70,
   "metadata": {
    "collapsed": true
   },
   "outputs": [],
   "source": [
    "# 90% of the labels in the original labels are saved for future\n",
    "y_90 = np.delete(Y, leave_10_percent)\n",
    "# 10% of the labels\n",
    "y_10 = np.delete(y_10, remove_90_percent)"
   ]
  },
  {
   "cell_type": "code",
   "execution_count": 71,
   "metadata": {},
   "outputs": [],
   "source": [
    "# 10% of the feature set\n",
    "x_10 = np.delete(X, remove_90_percent,0)\n",
    "# 90% of the feature set\n",
    "x_90 = np.delete(X, leave_10_percent,0)"
   ]
  },
  {
   "cell_type": "code",
   "execution_count": 72,
   "metadata": {},
   "outputs": [
    {
     "data": {
      "text/plain": [
       "(7000, 28, 28)"
      ]
     },
     "execution_count": 72,
     "metadata": {},
     "output_type": "execute_result"
    }
   ],
   "source": [
    "x_10.shape"
   ]
  },
  {
   "cell_type": "code",
   "execution_count": 73,
   "metadata": {},
   "outputs": [
    {
     "data": {
      "text/plain": [
       "(63000, 28, 28)"
      ]
     },
     "execution_count": 73,
     "metadata": {},
     "output_type": "execute_result"
    }
   ],
   "source": [
    "x_90.shape"
   ]
  },
  {
   "cell_type": "code",
   "execution_count": 74,
   "metadata": {
    "collapsed": true
   },
   "outputs": [],
   "source": [
    "x_10 = x_10.reshape([-1, 28, 28, 1])"
   ]
  },
  {
   "cell_type": "code",
   "execution_count": 75,
   "metadata": {
    "collapsed": true
   },
   "outputs": [],
   "source": [
    "# use 10% of the data for building a model\n",
    "# Split the data into Train, Test, and Validation \n",
    "X_train, X_test, y_train, y_test = train_test_split(x_10, y_10, test_size=0.20, random_state=42)\n",
    "X_train, X_val, y_train, y_val = train_test_split(X_train, y_train, test_size=0.20, random_state=42)"
   ]
  },
  {
   "cell_type": "code",
   "execution_count": 76,
   "metadata": {},
   "outputs": [
    {
     "name": "stdout",
     "output_type": "stream",
     "text": [
      "number of training examples = 4480\n",
      "number of test examples = 1400\n",
      "number of validation examples = 1120\n",
      "X_train shape: (4480, 28, 28, 1)\n",
      "Y_train shape: (4480, 10)\n",
      "X_test shape: (1400, 28, 28, 1)\n",
      "Y_test shape: (1400, 10)\n",
      "X_val shape: (1120, 28, 28, 1)\n",
      "Y_val shape: (1120, 10)\n"
     ]
    }
   ],
   "source": [
    "X_train = np.divide(X_train,255)\n",
    "X_test = np.divide(X_test,255)\n",
    "X_val = np.divide(X_val,255)\n",
    "Y_train = to_categorical(y_train)\n",
    "Y_test = to_categorical(y_test)\n",
    "Y_val = to_categorical(y_val)\n",
    "print (\"number of training examples = \" + str(X_train.shape[0]))\n",
    "print (\"number of test examples = \" + str(X_test.shape[0]))\n",
    "print (\"number of validation examples = \" + str(X_val.shape[0]))\n",
    "print (\"X_train shape: \" + str(X_train.shape))\n",
    "print (\"Y_train shape: \" + str(Y_train.shape))\n",
    "print (\"X_test shape: \" + str(X_test.shape))\n",
    "print (\"Y_test shape: \" + str(Y_test.shape))\n",
    "print (\"X_val shape: \" + str(X_val.shape))\n",
    "print (\"Y_val shape: \" + str(Y_val.shape))"
   ]
  },
  {
   "cell_type": "code",
   "execution_count": 77,
   "metadata": {
    "collapsed": true
   },
   "outputs": [],
   "source": [
    "# create a new model for 10% labeled data\n",
    "model_10 = Sequential()\n",
    "model_10.add(Conv2D(64, (3, 3), input_shape=(28, 28, 1)))\n",
    "model_10.add(Activation('relu'))\n",
    "model_10.add(MaxPooling2D(pool_size=(2, 2)))\n",
    "model_10.add(Dropout(0.25))\n",
    "\n",
    "model_10.add(Conv2D(32, (3, 3)))\n",
    "model_10.add(Activation('relu'))\n",
    "model_10.add(MaxPooling2D(pool_size=(2, 2)))\n",
    "model_10.add(Dropout(0.25))\n",
    "\n",
    "model_10.add(Flatten())  # this converts our 3D feature maps to 1D feature vectors\n",
    "model_10.add(Dense(128, activation='relu'))\n",
    "model_10.add(Dropout(0.5))\n",
    "model_10.add(Dense(10, activation='softmax')) # 10 classes"
   ]
  },
  {
   "cell_type": "code",
   "execution_count": 78,
   "metadata": {
    "collapsed": true
   },
   "outputs": [],
   "source": [
    "adam = Adam(lr=0.001, beta_1=0.9, beta_2=0.999, epsilon=1e-03, decay=0.0)\n",
    "model_10.compile(loss='categorical_crossentropy', optimizer=adam, metrics=['accuracy'])"
   ]
  },
  {
   "cell_type": "code",
   "execution_count": 79,
   "metadata": {},
   "outputs": [
    {
     "name": "stdout",
     "output_type": "stream",
     "text": [
      "Train on 4480 samples, validate on 1120 samples\n",
      "Epoch 1/20\n",
      "4480/4480 [==============================] - 10s 2ms/step - loss: 1.7283 - acc: 0.3482 - val_loss: 0.9867 - val_acc: 0.6813\n",
      "Epoch 2/20\n",
      "4480/4480 [==============================] - 9s 2ms/step - loss: 0.9966 - acc: 0.6368 - val_loss: 0.7184 - val_acc: 0.7375\n",
      "Epoch 3/20\n",
      "4480/4480 [==============================] - 9s 2ms/step - loss: 0.7868 - acc: 0.7121 - val_loss: 0.6108 - val_acc: 0.7705\n",
      "Epoch 4/20\n",
      "4480/4480 [==============================] - 9s 2ms/step - loss: 0.7006 - acc: 0.7411 - val_loss: 0.5626 - val_acc: 0.7911\n",
      "Epoch 5/20\n",
      "4480/4480 [==============================] - 9s 2ms/step - loss: 0.6510 - acc: 0.7549 - val_loss: 0.5238 - val_acc: 0.7946\n",
      "Epoch 6/20\n",
      "4480/4480 [==============================] - 9s 2ms/step - loss: 0.6047 - acc: 0.7734 - val_loss: 0.4996 - val_acc: 0.8018\n",
      "Epoch 7/20\n",
      "4480/4480 [==============================] - 9s 2ms/step - loss: 0.5720 - acc: 0.7848 - val_loss: 0.5000 - val_acc: 0.8152\n",
      "Epoch 8/20\n",
      "4480/4480 [==============================] - 9s 2ms/step - loss: 0.5632 - acc: 0.7913 - val_loss: 0.4863 - val_acc: 0.8116\n",
      "Epoch 9/20\n",
      "4480/4480 [==============================] - 9s 2ms/step - loss: 0.5348 - acc: 0.8009 - val_loss: 0.4734 - val_acc: 0.8152\n",
      "Epoch 10/20\n",
      "4480/4480 [==============================] - 9s 2ms/step - loss: 0.5246 - acc: 0.8027 - val_loss: 0.4519 - val_acc: 0.8286\n",
      "Epoch 11/20\n",
      "4480/4480 [==============================] - 9s 2ms/step - loss: 0.4930 - acc: 0.8154 - val_loss: 0.4345 - val_acc: 0.8357\n",
      "Epoch 12/20\n",
      "4480/4480 [==============================] - 9s 2ms/step - loss: 0.4889 - acc: 0.8163 - val_loss: 0.4208 - val_acc: 0.8500\n",
      "Epoch 13/20\n",
      "4480/4480 [==============================] - 9s 2ms/step - loss: 0.4713 - acc: 0.8232 - val_loss: 0.4276 - val_acc: 0.8473\n",
      "Epoch 14/20\n",
      "4480/4480 [==============================] - 9s 2ms/step - loss: 0.4512 - acc: 0.8384 - val_loss: 0.3937 - val_acc: 0.8545\n",
      "Epoch 15/20\n",
      "4480/4480 [==============================] - 8s 2ms/step - loss: 0.4484 - acc: 0.8373 - val_loss: 0.3987 - val_acc: 0.8482\n",
      "Epoch 16/20\n",
      "4480/4480 [==============================] - 8s 2ms/step - loss: 0.4311 - acc: 0.8408 - val_loss: 0.3928 - val_acc: 0.8518\n",
      "Epoch 17/20\n",
      "4480/4480 [==============================] - 8s 2ms/step - loss: 0.4104 - acc: 0.8451 - val_loss: 0.3966 - val_acc: 0.8589\n",
      "Epoch 18/20\n",
      "4480/4480 [==============================] - 9s 2ms/step - loss: 0.4138 - acc: 0.8462 - val_loss: 0.3846 - val_acc: 0.8598\n",
      "Epoch 19/20\n",
      "4480/4480 [==============================] - 9s 2ms/step - loss: 0.4081 - acc: 0.8527 - val_loss: 0.3753 - val_acc: 0.8634\n",
      "Epoch 20/20\n",
      "4480/4480 [==============================] - 9s 2ms/step - loss: 0.3851 - acc: 0.8554 - val_loss: 0.3801 - val_acc: 0.8580\n"
     ]
    }
   ],
   "source": [
    "my_model_10 = model_10.fit(X_train, Y_train, validation_data=(X_val, Y_val), batch_size=32, epochs=20,shuffle=True)"
   ]
  },
  {
   "cell_type": "code",
   "execution_count": 80,
   "metadata": {},
   "outputs": [
    {
     "name": "stdout",
     "output_type": "stream",
     "text": [
      "Test accuracy Acquired: 0.859285713945\n"
     ]
    }
   ],
   "source": [
    "test_loss, test_accuracy = model_10.evaluate(X_test, Y_test, verbose=0)\n",
    "print('Test accuracy Acquired:', test_accuracy)"
   ]
  },
  {
   "cell_type": "code",
   "execution_count": 81,
   "metadata": {
    "collapsed": true
   },
   "outputs": [],
   "source": [
    "x_90_reshaped = x_90.reshape([-1, 28, 28, 1])"
   ]
  },
  {
   "cell_type": "code",
   "execution_count": 82,
   "metadata": {
    "collapsed": true
   },
   "outputs": [],
   "source": [
    "predictions_90 = model_10.predict_classes(x_90_reshaped)"
   ]
  },
  {
   "cell_type": "code",
   "execution_count": 83,
   "metadata": {},
   "outputs": [
    {
     "name": "stdout",
     "output_type": "stream",
     "text": [
      "             precision    recall  f1-score   support\n",
      "\n",
      "          0       0.80      0.81      0.81      6300\n",
      "          1       0.98      0.97      0.98      6300\n",
      "          2       0.74      0.80      0.77      6300\n",
      "          3       0.86      0.88      0.87      6300\n",
      "          4       0.72      0.77      0.74      6300\n",
      "          5       0.94      0.96      0.95      6300\n",
      "          6       0.66      0.54      0.60      6300\n",
      "          7       0.95      0.89      0.92      6300\n",
      "          8       0.96      0.96      0.96      6300\n",
      "          9       0.93      0.96      0.94      6300\n",
      "\n",
      "avg / total       0.85      0.85      0.85     63000\n",
      "\n"
     ]
    }
   ],
   "source": [
    "print(classification_report(y_90, predictions_90))"
   ]
  },
  {
   "cell_type": "code",
   "execution_count": 109,
   "metadata": {
    "collapsed": true
   },
   "outputs": [],
   "source": [
    "avg_f1_score_10 = 0.85"
   ]
  },
  {
   "cell_type": "markdown",
   "metadata": {},
   "source": [
    "### Now lets start building a new classifier with only 20% of the initial dataset"
   ]
  },
  {
   "cell_type": "code",
   "execution_count": 85,
   "metadata": {
    "collapsed": true
   },
   "outputs": [],
   "source": [
    "# reload the data\n",
    "(x_train, y_train), (X_test, Y_test) = fashion_mnist.load_data()\n",
    "\n",
    "# Concatenate Train and Test set\n",
    "X = np.concatenate((x_train, X_test),axis=0)\n",
    "Y = np.concatenate((y_train, Y_test),axis=0)"
   ]
  },
  {
   "cell_type": "code",
   "execution_count": 86,
   "metadata": {
    "collapsed": true
   },
   "outputs": [],
   "source": [
    "# Create new training label with 20% of labels left (80% removed randomly)\n",
    "y_20 = np.copy(Y)"
   ]
  },
  {
   "cell_type": "code",
   "execution_count": 87,
   "metadata": {
    "collapsed": true
   },
   "outputs": [],
   "source": [
    "y_20 = remove_labels_randomly(Y,0.80)"
   ]
  },
  {
   "cell_type": "code",
   "execution_count": 88,
   "metadata": {
    "collapsed": true
   },
   "outputs": [],
   "source": [
    "# 80% of labels are 10\n",
    "remove_80_percent = list(np.where(y_20 == 10))\n",
    "# 20% of the labels are from 0-9\n",
    "leave_20_percent = list(np.where(y_20 != 10))\n",
    "\n",
    "# 80% of the labels in the original labels are saved for future\n",
    "y_80 = np.delete(Y, leave_20_percent)\n",
    "# 10% of the labels\n",
    "y_20 = np.delete(y_20, remove_80_percent)\n",
    "\n",
    "# 20% of the feature set\n",
    "x_20 = np.delete(X, remove_80_percent,0)\n",
    "# 80% of the feature set\n",
    "x_80 = np.delete(X, leave_20_percent,0)"
   ]
  },
  {
   "cell_type": "code",
   "execution_count": 89,
   "metadata": {
    "collapsed": true
   },
   "outputs": [],
   "source": [
    "x_20 = x_20.reshape([-1, 28, 28, 1])"
   ]
  },
  {
   "cell_type": "code",
   "execution_count": 90,
   "metadata": {
    "collapsed": true
   },
   "outputs": [],
   "source": [
    "# use 20% of the data for building a model\n",
    "# Split the data into Train, Test, and Validation \n",
    "X_train, X_test, y_train, y_test = train_test_split(x_20, y_20, test_size=0.20, random_state=42)\n",
    "X_train, X_val, y_train, y_val = train_test_split(X_train, y_train, test_size=0.20, random_state=42)"
   ]
  },
  {
   "cell_type": "code",
   "execution_count": 91,
   "metadata": {},
   "outputs": [
    {
     "name": "stdout",
     "output_type": "stream",
     "text": [
      "number of training examples = 8960\n",
      "number of test examples = 2800\n",
      "number of validation examples = 2240\n",
      "X_train shape: (8960, 28, 28, 1)\n",
      "Y_train shape: (8960, 10)\n",
      "X_test shape: (2800, 28, 28, 1)\n",
      "Y_test shape: (2800, 10)\n",
      "X_val shape: (2240, 28, 28, 1)\n",
      "Y_val shape: (2240, 10)\n"
     ]
    }
   ],
   "source": [
    "X_train = np.divide(X_train,255)\n",
    "X_test = np.divide(X_test,255)\n",
    "X_val = np.divide(X_val,255)\n",
    "Y_train = to_categorical(y_train)\n",
    "Y_test = to_categorical(y_test)\n",
    "Y_val = to_categorical(y_val)\n",
    "print (\"number of training examples = \" + str(X_train.shape[0]))\n",
    "print (\"number of test examples = \" + str(X_test.shape[0]))\n",
    "print (\"number of validation examples = \" + str(X_val.shape[0]))\n",
    "print (\"X_train shape: \" + str(X_train.shape))\n",
    "print (\"Y_train shape: \" + str(Y_train.shape))\n",
    "print (\"X_test shape: \" + str(X_test.shape))\n",
    "print (\"Y_test shape: \" + str(Y_test.shape))\n",
    "print (\"X_val shape: \" + str(X_val.shape))\n",
    "print (\"Y_val shape: \" + str(Y_val.shape))"
   ]
  },
  {
   "cell_type": "code",
   "execution_count": 92,
   "metadata": {
    "collapsed": true
   },
   "outputs": [],
   "source": [
    "# create a new model for 20% labeled data\n",
    "model_20 = Sequential()\n",
    "model_20.add(Conv2D(64, (3, 3), input_shape=(28, 28, 1)))\n",
    "model_20.add(Activation('relu'))\n",
    "model_20.add(MaxPooling2D(pool_size=(2, 2)))\n",
    "model_20.add(Dropout(0.25))\n",
    "\n",
    "model_20.add(Conv2D(32, (3, 3)))\n",
    "model_20.add(Activation('relu'))\n",
    "model_20.add(MaxPooling2D(pool_size=(2, 2)))\n",
    "model_20.add(Dropout(0.25))\n",
    "\n",
    "model_20.add(Flatten())  # this converts our 3D feature maps to 1D feature vectors\n",
    "model_20.add(Dense(128, activation='relu'))\n",
    "model_20.add(Dropout(0.5))\n",
    "model_20.add(Dense(10, activation='softmax')) # 10 classes"
   ]
  },
  {
   "cell_type": "code",
   "execution_count": 93,
   "metadata": {
    "collapsed": true
   },
   "outputs": [],
   "source": [
    "adam = Adam(lr=0.001, beta_1=0.9, beta_2=0.999, epsilon=1e-03, decay=0.0)\n",
    "model_20.compile(loss='categorical_crossentropy', optimizer=adam, metrics=['accuracy'])"
   ]
  },
  {
   "cell_type": "code",
   "execution_count": 94,
   "metadata": {},
   "outputs": [
    {
     "name": "stdout",
     "output_type": "stream",
     "text": [
      "Train on 8960 samples, validate on 2240 samples\n",
      "Epoch 1/20\n",
      "8960/8960 [==============================] - 18s 2ms/step - loss: 1.3163 - acc: 0.5202 - val_loss: 0.7132 - val_acc: 0.7446\n",
      "Epoch 2/20\n",
      "8960/8960 [==============================] - 17s 2ms/step - loss: 0.7289 - acc: 0.7277 - val_loss: 0.6010 - val_acc: 0.7719\n",
      "Epoch 3/20\n",
      "8960/8960 [==============================] - 17s 2ms/step - loss: 0.6366 - acc: 0.7680 - val_loss: 0.5403 - val_acc: 0.7978\n",
      "Epoch 4/20\n",
      "8960/8960 [==============================] - 17s 2ms/step - loss: 0.5773 - acc: 0.7821 - val_loss: 0.5115 - val_acc: 0.7987\n",
      "Epoch 5/20\n",
      "8960/8960 [==============================] - 17s 2ms/step - loss: 0.5422 - acc: 0.7925 - val_loss: 0.4847 - val_acc: 0.8129\n",
      "Epoch 6/20\n",
      "8960/8960 [==============================] - 17s 2ms/step - loss: 0.5059 - acc: 0.8055 - val_loss: 0.4733 - val_acc: 0.8107\n",
      "Epoch 7/20\n",
      "8960/8960 [==============================] - 17s 2ms/step - loss: 0.4791 - acc: 0.8232 - val_loss: 0.4387 - val_acc: 0.8299\n",
      "Epoch 8/20\n",
      "8960/8960 [==============================] - 17s 2ms/step - loss: 0.4641 - acc: 0.8282 - val_loss: 0.4294 - val_acc: 0.8420\n",
      "Epoch 9/20\n",
      "8960/8960 [==============================] - 17s 2ms/step - loss: 0.4438 - acc: 0.8298 - val_loss: 0.4117 - val_acc: 0.8549\n",
      "Epoch 10/20\n",
      "8960/8960 [==============================] - 17s 2ms/step - loss: 0.4129 - acc: 0.8451 - val_loss: 0.3869 - val_acc: 0.8696\n",
      "Epoch 11/20\n",
      "8960/8960 [==============================] - 17s 2ms/step - loss: 0.4052 - acc: 0.8471 - val_loss: 0.3919 - val_acc: 0.8585\n",
      "Epoch 12/20\n",
      "8960/8960 [==============================] - 17s 2ms/step - loss: 0.3962 - acc: 0.8502 - val_loss: 0.3893 - val_acc: 0.8558\n",
      "Epoch 13/20\n",
      "8960/8960 [==============================] - 17s 2ms/step - loss: 0.3819 - acc: 0.8550 - val_loss: 0.3683 - val_acc: 0.8665\n",
      "Epoch 14/20\n",
      "8960/8960 [==============================] - 17s 2ms/step - loss: 0.3650 - acc: 0.8608 - val_loss: 0.3613 - val_acc: 0.8701\n",
      "Epoch 15/20\n",
      "8960/8960 [==============================] - 17s 2ms/step - loss: 0.3617 - acc: 0.8628 - val_loss: 0.3513 - val_acc: 0.8795\n",
      "Epoch 16/20\n",
      "8960/8960 [==============================] - 17s 2ms/step - loss: 0.3446 - acc: 0.8647 - val_loss: 0.3508 - val_acc: 0.8781\n",
      "Epoch 17/20\n",
      "8960/8960 [==============================] - 17s 2ms/step - loss: 0.3360 - acc: 0.8723 - val_loss: 0.3467 - val_acc: 0.8777\n",
      "Epoch 18/20\n",
      "8960/8960 [==============================] - 17s 2ms/step - loss: 0.3314 - acc: 0.8751 - val_loss: 0.3542 - val_acc: 0.8799\n",
      "Epoch 19/20\n",
      "8960/8960 [==============================] - 17s 2ms/step - loss: 0.3233 - acc: 0.8754 - val_loss: 0.3708 - val_acc: 0.8625\n",
      "Epoch 20/20\n",
      "8960/8960 [==============================] - 17s 2ms/step - loss: 0.3239 - acc: 0.8776 - val_loss: 0.3416 - val_acc: 0.8835\n"
     ]
    }
   ],
   "source": [
    "my_model_20 = model_20.fit(X_train, Y_train, validation_data=(X_val, Y_val), batch_size=32, epochs=20,shuffle=True)"
   ]
  },
  {
   "cell_type": "code",
   "execution_count": 95,
   "metadata": {},
   "outputs": [
    {
     "name": "stdout",
     "output_type": "stream",
     "text": [
      "Test accuracy Acquired: 0.8775\n"
     ]
    }
   ],
   "source": [
    "test_loss, test_accuracy = model_20.evaluate(X_test, Y_test, verbose=0)\n",
    "print('Test accuracy Acquired:', test_accuracy)"
   ]
  },
  {
   "cell_type": "code",
   "execution_count": 96,
   "metadata": {
    "collapsed": true
   },
   "outputs": [],
   "source": [
    "x_80_reshaped = x_80.reshape([-1, 28, 28, 1])"
   ]
  },
  {
   "cell_type": "code",
   "execution_count": 97,
   "metadata": {},
   "outputs": [
    {
     "data": {
      "text/plain": [
       "(56000, 28, 28, 1)"
      ]
     },
     "execution_count": 97,
     "metadata": {},
     "output_type": "execute_result"
    }
   ],
   "source": [
    "x_80_reshaped.shape"
   ]
  },
  {
   "cell_type": "code",
   "execution_count": 98,
   "metadata": {
    "collapsed": true
   },
   "outputs": [],
   "source": [
    "predictions_80 = model_20.predict_classes(x_80_reshaped)"
   ]
  },
  {
   "cell_type": "code",
   "execution_count": 99,
   "metadata": {},
   "outputs": [
    {
     "name": "stdout",
     "output_type": "stream",
     "text": [
      "             precision    recall  f1-score   support\n",
      "\n",
      "          0       0.88      0.72      0.80      5600\n",
      "          1       0.99      0.97      0.98      5600\n",
      "          2       0.87      0.67      0.76      5600\n",
      "          3       0.90      0.88      0.89      5600\n",
      "          4       0.60      0.94      0.73      5600\n",
      "          5       0.94      0.98      0.96      5600\n",
      "          6       0.63      0.52      0.57      5600\n",
      "          7       0.97      0.88      0.92      5600\n",
      "          8       0.91      0.98      0.94      5600\n",
      "          9       0.93      0.97      0.95      5600\n",
      "\n",
      "avg / total       0.86      0.85      0.85     56000\n",
      "\n"
     ]
    }
   ],
   "source": [
    "print(classification_report(y_80, predictions_80))"
   ]
  },
  {
   "cell_type": "code",
   "execution_count": 110,
   "metadata": {
    "collapsed": true
   },
   "outputs": [],
   "source": [
    "avg_f1_score_20 = 0.85"
   ]
  },
  {
   "cell_type": "code",
   "execution_count": 111,
   "metadata": {
    "collapsed": true
   },
   "outputs": [],
   "source": [
    "f1_score_list = [avg_f1_score_01,avg_f1_score_05,avg_f1_score_10,avg_f1_score_20,avg_f1_score_100]"
   ]
  },
  {
   "cell_type": "code",
   "execution_count": 112,
   "metadata": {},
   "outputs": [
    {
     "data": {
      "text/plain": [
       "[0.71, 0.78, 0.85, 0.85, 0.9]"
      ]
     },
     "execution_count": 112,
     "metadata": {},
     "output_type": "execute_result"
    }
   ],
   "source": [
    "f1_score_list"
   ]
  },
  {
   "cell_type": "code",
   "execution_count": 113,
   "metadata": {
    "collapsed": true
   },
   "outputs": [],
   "source": [
    "data_percentages = [1,5,10,20,100]"
   ]
  },
  {
   "cell_type": "code",
   "execution_count": 114,
   "metadata": {
    "collapsed": true
   },
   "outputs": [],
   "source": [
    "def funcLog(x, a, b):\n",
    "    return a+b*np.log(x)"
   ]
  },
  {
   "cell_type": "code",
   "execution_count": 115,
   "metadata": {},
   "outputs": [],
   "source": [
    "popt, pcov = curve_fit(funcLog, data_percentages, f1_score_list, p0=(-1, 1))\n",
    "x_new = np.linspace(data_percentages[0], data_percentages[-1], 50)\n",
    "y_new = funcLog(x_new, *popt)"
   ]
  },
  {
   "cell_type": "code",
   "execution_count": 116,
   "metadata": {},
   "outputs": [
    {
     "data": {
      "text/plain": [
       "array([ 0.72123289,  0.04202542])"
      ]
     },
     "execution_count": 116,
     "metadata": {},
     "output_type": "execute_result"
    }
   ],
   "source": [
    "popt"
   ]
  },
  {
   "cell_type": "code",
   "execution_count": 117,
   "metadata": {},
   "outputs": [
    {
     "data": {
      "text/plain": [
       "<matplotlib.text.Text at 0x1351412b0>"
      ]
     },
     "execution_count": 117,
     "metadata": {},
     "output_type": "execute_result"
    },
    {
     "data": {
      "image/png": "[encoded data removed]",
      "text/plain": [
       "<matplotlib.figure.Figure at 0x133e08390>"
      ]
     },
     "metadata": {},
     "output_type": "display_data"
    }
   ],
   "source": [
    "plt.plot(data_percentages, f1_score_list, 'ro', x_new,y_new)\n",
    "plt.ylabel('f1-score', fontsize=14)\n",
    "plt.xlabel('Used Data (%)', fontsize=14)"
   ]
  },
  {
   "cell_type": "code",
   "execution_count": null,
   "metadata": {},
   "outputs": [],
   "source": []
  },
  {
   "cell_type": "code",
   "execution_count": null,
   "metadata": {
    "collapsed": true
   },
   "outputs": [],
   "source": []
  },
  {
   "cell_type": "code",
   "execution_count": null,
   "metadata": {
    "collapsed": true
   },
   "outputs": [],
   "source": []
  }
 ],
 "metadata": {
  "kernelspec": {
   "display_name": "Python 3",
   "language": "python",
   "name": "python3"
  },
  "language_info": {
   "codemirror_mode": {
    "name": "ipython",
    "version": 3
   },
   "file_extension": ".py",
   "mimetype": "text/x-python",
   "name": "python",
   "nbconvert_exporter": "python",
   "pygments_lexer": "ipython3",
   "version": "3.5.5"
  }
 },
 "nbformat": 4,
 "nbformat_minor": 2
}
